{
 "cells": [
  {
   "attachments": {},
   "cell_type": "markdown",
   "metadata": {},
   "source": [
    "Weather data comes from swish analytics https://swishanalytics.com/mlb/weather?date=2022-11-05\n",
    "\n",
    "Helpful website for understanding tables: https://medium.com/geekculture/web-scraping-tables-in-python-using-beautiful-soup-8bbc31c5803e"
   ]
  },
  {
   "cell_type": "code",
   "execution_count": 1,
   "metadata": {},
   "outputs": [],
   "source": [
    "import requests\n",
    "from requests import get\n",
    "from bs4 import BeautifulSoup\n",
    "import pandas as pd\n",
    "import numpy as np\n",
    "from sqlalchemy import create_engine\n",
    "import psycopg2 \n",
    "import io"
   ]
  },
  {
   "attachments": {},
   "cell_type": "markdown",
   "metadata": {},
   "source": [
    "Read in game dates from GameLogs.csv"
   ]
  },
  {
   "cell_type": "code",
   "execution_count": 6,
   "metadata": {},
   "outputs": [],
   "source": [
    "columns = ['Date','VisitingTeam','HomeTeam']\n",
    "dates = pd.read_csv('source_files/gameLogsFixed.csv', skipinitialspace=True, usecols=columns)\n",
    "dates['Date'] = pd.to_datetime(dates['Date'])\n",
    "dates = dates[dates['Date'] > '2020-08-06'] # I went to the website and this is the first day with the weather data\n",
    "dates['Date'] = dates['Date'].astype(str)\n",
    "gameDays =  pd.Series(dates['Date']).drop_duplicates().tolist() # drop duplicates\n",
    "\n",
    "#### Create List of URLs ####\n",
    "swishAnalytics = 'https://swishanalytics.com/mlb/weather?date='\n",
    "urlList = []\n",
    "for games in gameDays:\n",
    "    urlList.append(swishAnalytics + games)"
   ]
  },
  {
   "cell_type": "code",
   "execution_count": 7,
   "metadata": {},
   "outputs": [
    {
     "name": "stdout",
     "output_type": "stream",
     "text": [
      "['2020-08-07', '2020-08-08', '2020-08-09', '2020-08-10', '2020-08-11', '2020-08-12', '2020-08-13', '2020-08-14', '2020-08-15', '2020-08-16', '2020-08-17', '2020-08-18', '2020-08-19', '2020-08-20', '2020-08-21', '2020-08-22', '2020-08-23', '2020-08-24', '2020-08-25', '2020-08-26', '2020-08-27', '2020-08-28', '2020-08-29', '2020-08-30', '2020-08-31', '2020-09-01', '2020-09-02', '2020-09-03', '2020-09-04', '2020-09-05', '2020-09-06', '2020-09-07', '2020-09-08', '2020-09-09', '2020-09-10', '2020-09-11', '2020-09-12', '2020-09-13', '2020-09-14', '2020-09-15', '2020-09-16', '2020-09-17', '2020-09-18', '2020-09-19', '2020-09-20', '2020-09-21', '2020-09-22', '2020-09-23', '2020-09-24', '2020-09-25', '2020-09-26', '2020-09-27', '2021-04-01', '2021-04-02', '2021-04-03', '2021-04-04', '2021-04-05', '2021-04-06', '2021-04-07', '2021-04-08', '2021-04-09', '2021-04-10', '2021-04-11', '2021-04-12', '2021-04-13', '2021-04-14', '2021-04-15', '2021-04-16', '2021-04-17', '2021-04-18', '2021-04-19', '2021-04-20', '2021-04-21', '2021-04-22', '2021-04-23', '2021-04-24', '2021-04-25', '2021-04-26', '2021-04-27', '2021-04-28', '2021-04-29', '2021-04-30', '2021-05-01', '2021-05-02', '2021-05-03', '2021-05-04', '2021-05-05', '2021-05-06', '2021-05-07', '2021-05-08', '2021-05-09', '2021-05-10', '2021-05-11', '2021-05-12', '2021-05-13', '2021-05-14', '2021-05-15', '2021-05-16', '2021-05-17', '2021-05-18', '2021-05-19', '2021-05-20', '2021-05-21', '2021-05-22', '2021-05-23', '2021-05-24', '2021-05-25', '2021-05-26', '2021-05-27', '2021-05-28', '2021-05-29', '2021-05-30', '2021-05-31', '2021-06-01', '2021-06-02', '2021-06-03', '2021-06-04', '2021-06-05', '2021-06-06', '2021-06-07', '2021-06-08', '2021-06-09', '2021-06-10', '2021-06-11', '2021-06-12', '2021-06-13', '2021-06-14', '2021-06-15', '2021-06-16', '2021-06-17', '2021-06-18', '2021-06-19', '2021-06-20', '2021-06-21', '2021-06-22', '2021-06-23', '2021-06-24', '2021-06-25', '2021-06-26', '2021-06-27', '2021-06-28', '2021-06-29', '2021-06-30', '2021-07-01', '2021-07-02', '2021-07-03', '2021-07-04', '2021-07-05', '2021-07-06', '2021-07-07', '2021-07-08', '2021-07-09', '2021-07-10', '2021-07-11', '2021-07-16', '2021-07-17', '2021-07-18', '2021-07-19', '2021-07-20', '2021-07-21', '2021-07-22', '2021-07-23', '2021-07-24', '2021-07-25', '2021-07-26', '2021-07-27', '2021-07-28', '2021-07-29', '2021-07-30', '2021-07-31', '2021-08-01', '2021-08-02', '2021-08-03', '2021-08-04', '2021-08-05', '2021-08-06', '2021-08-07', '2021-08-08', '2021-08-09', '2021-08-10', '2021-08-11', '2021-08-12', '2021-08-13', '2021-08-14', '2021-08-15', '2021-08-16', '2021-08-17', '2021-08-18', '2021-08-19', '2021-08-20', '2021-08-21', '2021-08-22', '2021-08-23', '2021-08-24', '2021-08-25', '2021-08-26', '2021-08-27', '2021-08-28', '2021-08-29', '2021-08-30', '2021-08-31', '2021-09-01', '2021-09-02', '2021-09-03', '2021-09-04', '2021-09-05', '2021-09-06', '2021-09-07', '2021-09-08', '2021-09-09', '2021-09-10', '2021-09-11', '2021-09-12', '2021-09-13', '2021-09-14', '2021-09-15', '2021-09-16', '2021-09-17', '2021-09-18', '2021-09-19', '2021-09-20', '2021-09-21', '2021-09-22', '2021-09-23', '2021-09-24', '2021-09-25', '2021-09-26', '2021-09-27', '2021-09-28', '2021-09-29', '2021-09-30', '2021-10-01', '2021-10-02', '2021-10-03', '2022-04-07', '2022-04-08', '2022-04-09', '2022-04-10', '2022-04-11', '2022-04-12', '2022-04-13', '2022-04-14', '2022-04-15', '2022-04-16', '2022-04-17', '2022-04-18', '2022-04-19', '2022-04-20', '2022-04-21', '2022-04-22', '2022-04-23', '2022-04-24', '2022-04-25', '2022-04-26', '2022-04-27', '2022-04-28', '2022-04-29', '2022-04-30', '2022-05-01', '2022-05-02', '2022-05-03', '2022-05-04', '2022-05-05', '2022-05-06', '2022-05-07', '2022-05-08', '2022-05-09', '2022-05-10', '2022-05-11', '2022-05-12', '2022-05-13', '2022-05-14', '2022-05-15', '2022-05-16', '2022-05-17', '2022-05-18', '2022-05-19', '2022-05-20', '2022-05-21', '2022-05-22', '2022-05-23', '2022-05-24', '2022-05-25', '2022-05-26', '2022-05-27', '2022-05-28', '2022-05-29', '2022-05-30', '2022-05-31', '2022-06-01', '2022-06-02', '2022-06-03', '2022-06-04', '2022-06-05', '2022-06-06', '2022-06-07', '2022-06-08', '2022-06-09', '2022-06-10', '2022-06-11', '2022-06-12', '2022-06-13', '2022-06-14', '2022-06-15', '2022-06-16', '2022-06-17', '2022-06-18', '2022-06-19', '2022-06-20', '2022-06-21', '2022-06-22', '2022-06-23', '2022-06-24', '2022-06-25', '2022-06-26', '2022-06-27', '2022-06-28', '2022-06-29', '2022-06-30', '2022-07-01', '2022-07-02', '2022-07-03', '2022-07-04', '2022-07-05', '2022-07-06', '2022-07-07', '2022-07-08', '2022-07-09', '2022-07-10', '2022-07-11', '2022-07-12', '2022-07-13', '2022-07-14', '2022-07-15', '2022-07-16', '2022-07-17', '2022-07-21', '2022-07-22', '2022-07-23', '2022-07-24', '2022-07-25', '2022-07-26', '2022-07-27', '2022-07-28', '2022-07-29', '2022-07-30', '2022-07-31', '2022-08-01', '2022-08-02', '2022-08-03', '2022-08-04', '2022-08-05', '2022-08-06', '2022-08-07', '2022-08-08', '2022-08-09', '2022-08-10', '2022-08-11', '2022-08-12', '2022-08-13', '2022-08-14', '2022-08-15', '2022-08-16', '2022-08-17', '2022-08-18', '2022-08-19', '2022-08-20', '2022-08-21', '2022-08-22', '2022-08-23', '2022-08-24', '2022-08-25', '2022-08-26', '2022-08-27', '2022-08-28', '2022-08-29', '2022-08-30', '2022-08-31', '2022-09-01', '2022-09-02', '2022-09-03', '2022-09-04', '2022-09-05', '2022-09-06', '2022-09-07', '2022-09-08', '2022-09-09', '2022-09-10', '2022-09-11', '2022-09-12', '2022-09-13', '2022-09-14', '2022-09-15', '2022-09-16', '2022-09-17', '2022-09-18', '2022-09-19', '2022-09-20', '2022-09-21', '2022-09-22', '2022-09-23', '2022-09-24', '2022-09-25', '2022-09-26', '2022-09-27', '2022-09-28', '2022-09-29', '2022-09-30', '2022-10-01', '2022-10-02', '2022-10-03', '2022-10-04', '2022-10-05']\n",
      "413\n"
     ]
    }
   ],
   "source": [
    "print(gameDays)\n",
    "print(len(gameDays))"
   ]
  },
  {
   "cell_type": "code",
   "execution_count": 8,
   "metadata": {},
   "outputs": [
    {
     "ename": "ValueError",
     "evalue": "invalid literal for int() with base 10: 'N/A'",
     "output_type": "error",
     "traceback": [
      "\u001b[1;31m---------------------------------------------------------------------------\u001b[0m",
      "\u001b[1;31mValueError\u001b[0m                                Traceback (most recent call last)",
      "Cell \u001b[1;32mIn[8], line 80\u001b[0m\n\u001b[0;32m     78\u001b[0m         \u001b[39mif\u001b[39;00m feelsLikeList[\u001b[39m1\u001b[39m] \u001b[39m==\u001b[39m \u001b[39m'\u001b[39m\u001b[39mN/A\u001b[39m\u001b[39m'\u001b[39m:\n\u001b[0;32m     79\u001b[0m                 \u001b[39mcontinue\u001b[39;00m\n\u001b[1;32m---> 80\u001b[0m         avgFeelsLike \u001b[39m=\u001b[39m np\u001b[39m.\u001b[39mmean([\u001b[39mint\u001b[39m(i) \u001b[39mfor\u001b[39;00m i \u001b[39min\u001b[39;00m feelsLikeList[\u001b[39m1\u001b[39m:]])\n\u001b[0;32m     81\u001b[0m         avgTemp\u001b[39m.\u001b[39mappend(avgFeelsLike)\n\u001b[0;32m     83\u001b[0m \u001b[39m## Precipitation ##\u001b[39;00m\n",
      "Cell \u001b[1;32mIn[8], line 80\u001b[0m, in \u001b[0;36m<listcomp>\u001b[1;34m(.0)\u001b[0m\n\u001b[0;32m     78\u001b[0m         \u001b[39mif\u001b[39;00m feelsLikeList[\u001b[39m1\u001b[39m] \u001b[39m==\u001b[39m \u001b[39m'\u001b[39m\u001b[39mN/A\u001b[39m\u001b[39m'\u001b[39m:\n\u001b[0;32m     79\u001b[0m                 \u001b[39mcontinue\u001b[39;00m\n\u001b[1;32m---> 80\u001b[0m         avgFeelsLike \u001b[39m=\u001b[39m np\u001b[39m.\u001b[39mmean([\u001b[39mint\u001b[39;49m(i) \u001b[39mfor\u001b[39;00m i \u001b[39min\u001b[39;00m feelsLikeList[\u001b[39m1\u001b[39m:]])\n\u001b[0;32m     81\u001b[0m         avgTemp\u001b[39m.\u001b[39mappend(avgFeelsLike)\n\u001b[0;32m     83\u001b[0m \u001b[39m## Precipitation ##\u001b[39;00m\n",
      "\u001b[1;31mValueError\u001b[0m: invalid literal for int() with base 10: 'N/A'"
     ]
    }
   ],
   "source": [
    "index1 = 0\n",
    "index2 = 1000\n",
    "urlList2 = urlList\n",
    "\n",
    "# set up dataframe\n",
    "website = []\n",
    "date = []\n",
    "startTime = [] # time game started in military time (ET)\n",
    "visiting = []\n",
    "home = []\n",
    "avgTemp = [] # avg feels like\n",
    "totalPrecip = [] # total % precipitation during the game\n",
    "avgWindSpeed = []\n",
    "\n",
    "headers = {\"Accept-Language\": \"en-US, en;q=0.5\"}\n",
    "\n",
    "for url in urlList2:\n",
    "        gameIsNA = 0\n",
    "        results = requests.get(url, headers=headers)\n",
    "        soup = BeautifulSoup(results.text,\"html.parser\")\n",
    "        weather_div = soup.find_all('div', class_ = 'weather-card')\n",
    "\n",
    "        ### Loop through each game played that day ###\n",
    "        for container in weather_div:\n",
    "                #### Website Link ####\n",
    "                website.append(url)\n",
    "\n",
    "                #### Date ####\n",
    "                date.append(url[-10:])\n",
    "\n",
    "                #### Team Names ####\n",
    "                lineup = container.h4.text\n",
    "                # Visiting #\n",
    "                team1 = lineup[:lineup.index('@')]\n",
    "                visiting.append(team1)\n",
    "                # Home #\n",
    "                team2 = lineup[lineup.index('@')+2:]\n",
    "                home.append(team2)\n",
    "\n",
    "                #### Time ####\n",
    "                time_div = soup.find('div', class_ = 'col-md-3 pad-5')\n",
    "                time = container.small.text.strip(' ET')\n",
    "                meridian = time[-2:] # \"AM\" or \"PM\"\n",
    "                time_without_meridian = time[:-2]\n",
    "                \n",
    "                # if there is no weater data append NA for all columns\n",
    "                if time == 'BA':\n",
    "                        startTime.append('NA')\n",
    "                        avgTemp.append('NA')\n",
    "                        totalPrecip.append('NA')\n",
    "                        avgWindSpeed.append('NA')\n",
    "                        continue\n",
    "                \n",
    "                hour = int(time[:(time.index(':'))])\n",
    "                if meridian == \"PM\" and hour != 12:\n",
    "                        hour += 12\n",
    "                        time = str(hour) + time_without_meridian[time.index(':'):]\n",
    "                elif meridian == \"AM\" and hour ==12:\n",
    "                        time = '0' + time_without_meridian[time.index(':'):]\n",
    "                else: # for AM and noon\n",
    "                        time = time_without_meridian\n",
    "                startTime.append(time)\n",
    "\n",
    "        #### Weather ####\n",
    "        # Loop through all weather cards #\n",
    "        temp_table = soup.find_all('table', class_ = 'table table-bordered')\n",
    "        for table in temp_table:\n",
    "                # This itterates through the table by row #  \n",
    "                for row in table.tbody.find_all('tr'):\n",
    "                        columns = row.find_all('td')\n",
    "                        if(columns != []):\n",
    "                                rowName = columns[0].text\n",
    "                                ## Feels Like ##\n",
    "                                if rowName == 'Feels Like':\n",
    "                                        feelsLikeList = []\n",
    "                                        for hour in columns:\n",
    "                                                feelsLikeList.append(hour.text.strip('.°'))\n",
    "                                        if feelsLikeList[1] == 'N/A':\n",
    "                                                continue\n",
    "                                        feelsLikeList.remove('N/A')\n",
    "                                        avgFeelsLike = np.mean([int(i) for i in feelsLikeList[1:]])\n",
    "                                        avgTemp.append(avgFeelsLike)\n",
    "\n",
    "                                ## Precipitation ##\n",
    "                                if rowName == 'Precip %':\n",
    "                                        precipList = []\n",
    "                                        for hour in columns:\n",
    "                                                precipList.append(hour.text.strip('%'))\n",
    "                                        if precipList[1] == 'N/A':\n",
    "                                                continue\n",
    "                                        precipList.remove('N/A')\n",
    "                                        sumPrecip = np.sum([int(i) for i in precipList[1:]]) / 100\n",
    "                                        totalPrecip.append(sumPrecip)\n",
    "\n",
    "                                ## Wind ##\n",
    "                                if rowName == 'Wind Speed':\n",
    "                                        windList = []\n",
    "                                        for hour in columns:\n",
    "                                                windList.append(hour.text.strip(' mph'))\n",
    "                                        if windList[1] == 'N/A':\n",
    "                                                continue\n",
    "                                        windList.remove('N/A')\n",
    "                                        avgWind = np.mean([int(i) for i in windList[1:]])\n",
    "                                        avgWindSpeed.append(avgWind)\n",
    "\n",
    "weather_df = pd.DataFrame({\n",
    "'url': website,\n",
    "'date': date,\n",
    "'homeTeam': home,\n",
    "'visitingTeam':visiting,\n",
    "'gameTime':startTime,\n",
    "'avgTemp':avgTemp,\n",
    "'percipitation':totalPrecip,\n",
    "'avgWindSpeed':avgWindSpeed\n",
    "})\n",
    "\n",
    "print(weather_df)\n",
    "\n",
    "\n",
    "# saving the dataframe\n",
    "csv_name = 'weather' + str(index1) + '_' + str(index2) + '.csv'\n",
    "weather_df.to_csv((csv_name), header=True, index=False, mode='w+')"
   ]
  },
  {
   "cell_type": "code",
   "execution_count": 9,
   "metadata": {},
   "outputs": [
    {
     "ename": "ValueError",
     "evalue": "All arrays must be of the same length",
     "output_type": "error",
     "traceback": [
      "\u001b[1;31m---------------------------------------------------------------------------\u001b[0m",
      "\u001b[1;31mValueError\u001b[0m                                Traceback (most recent call last)",
      "Cell \u001b[1;32mIn[9], line 1\u001b[0m\n\u001b[1;32m----> 1\u001b[0m weather_df \u001b[39m=\u001b[39m pd\u001b[39m.\u001b[39;49mDataFrame({\n\u001b[0;32m      2\u001b[0m \u001b[39m'\u001b[39;49m\u001b[39murl\u001b[39;49m\u001b[39m'\u001b[39;49m: website[:\u001b[39m2933\u001b[39;49m],\n\u001b[0;32m      3\u001b[0m \u001b[39m'\u001b[39;49m\u001b[39mdate\u001b[39;49m\u001b[39m'\u001b[39;49m: date[:\u001b[39m2933\u001b[39;49m],\n\u001b[0;32m      4\u001b[0m \u001b[39m'\u001b[39;49m\u001b[39mhomeTeam\u001b[39;49m\u001b[39m'\u001b[39;49m: home[:\u001b[39m2933\u001b[39;49m],\n\u001b[0;32m      5\u001b[0m \u001b[39m'\u001b[39;49m\u001b[39mvisitingTeam\u001b[39;49m\u001b[39m'\u001b[39;49m:visiting[:\u001b[39m2933\u001b[39;49m],\n\u001b[0;32m      6\u001b[0m \u001b[39m'\u001b[39;49m\u001b[39mgameTime\u001b[39;49m\u001b[39m'\u001b[39;49m:startTime[:\u001b[39m2933\u001b[39;49m],\n\u001b[0;32m      7\u001b[0m \u001b[39m'\u001b[39;49m\u001b[39mavgTemp\u001b[39;49m\u001b[39m'\u001b[39;49m:avgTemp[:\u001b[39m2933\u001b[39;49m],\n\u001b[0;32m      8\u001b[0m \u001b[39m'\u001b[39;49m\u001b[39mpercipitation\u001b[39;49m\u001b[39m'\u001b[39;49m:totalPrecip[:\u001b[39m2933\u001b[39;49m],\n\u001b[0;32m      9\u001b[0m \u001b[39m'\u001b[39;49m\u001b[39mavgWindSpeed\u001b[39;49m\u001b[39m'\u001b[39;49m:avgWindSpeed[:\u001b[39m2933\u001b[39;49m]\n\u001b[0;32m     10\u001b[0m })\n\u001b[0;32m     11\u001b[0m \u001b[39mprint\u001b[39m(weather_df)\n\u001b[0;32m     13\u001b[0m csv_name \u001b[39m=\u001b[39m \u001b[39m'\u001b[39m\u001b[39mweather\u001b[39m\u001b[39m'\u001b[39m \u001b[39m+\u001b[39m \u001b[39mstr\u001b[39m(index1) \u001b[39m+\u001b[39m \u001b[39m'\u001b[39m\u001b[39m_\u001b[39m\u001b[39m'\u001b[39m \u001b[39m+\u001b[39m \u001b[39mstr\u001b[39m(index2) \u001b[39m+\u001b[39m \u001b[39m'\u001b[39m\u001b[39m.csv\u001b[39m\u001b[39m'\u001b[39m\n",
      "File \u001b[1;32m~\\AppData\\Local\\Packages\\PythonSoftwareFoundation.Python.3.10_qbz5n2kfra8p0\\LocalCache\\local-packages\\Python310\\site-packages\\pandas\\core\\frame.py:664\u001b[0m, in \u001b[0;36mDataFrame.__init__\u001b[1;34m(self, data, index, columns, dtype, copy)\u001b[0m\n\u001b[0;32m    658\u001b[0m     mgr \u001b[39m=\u001b[39m \u001b[39mself\u001b[39m\u001b[39m.\u001b[39m_init_mgr(\n\u001b[0;32m    659\u001b[0m         data, axes\u001b[39m=\u001b[39m{\u001b[39m\"\u001b[39m\u001b[39mindex\u001b[39m\u001b[39m\"\u001b[39m: index, \u001b[39m\"\u001b[39m\u001b[39mcolumns\u001b[39m\u001b[39m\"\u001b[39m: columns}, dtype\u001b[39m=\u001b[39mdtype, copy\u001b[39m=\u001b[39mcopy\n\u001b[0;32m    660\u001b[0m     )\n\u001b[0;32m    662\u001b[0m \u001b[39melif\u001b[39;00m \u001b[39misinstance\u001b[39m(data, \u001b[39mdict\u001b[39m):\n\u001b[0;32m    663\u001b[0m     \u001b[39m# GH#38939 de facto copy defaults to False only in non-dict cases\u001b[39;00m\n\u001b[1;32m--> 664\u001b[0m     mgr \u001b[39m=\u001b[39m dict_to_mgr(data, index, columns, dtype\u001b[39m=\u001b[39;49mdtype, copy\u001b[39m=\u001b[39;49mcopy, typ\u001b[39m=\u001b[39;49mmanager)\n\u001b[0;32m    665\u001b[0m \u001b[39melif\u001b[39;00m \u001b[39misinstance\u001b[39m(data, ma\u001b[39m.\u001b[39mMaskedArray):\n\u001b[0;32m    666\u001b[0m     \u001b[39mimport\u001b[39;00m \u001b[39mnumpy\u001b[39;00m\u001b[39m.\u001b[39;00m\u001b[39mma\u001b[39;00m\u001b[39m.\u001b[39;00m\u001b[39mmrecords\u001b[39;00m \u001b[39mas\u001b[39;00m \u001b[39mmrecords\u001b[39;00m\n",
      "File \u001b[1;32m~\\AppData\\Local\\Packages\\PythonSoftwareFoundation.Python.3.10_qbz5n2kfra8p0\\LocalCache\\local-packages\\Python310\\site-packages\\pandas\\core\\internals\\construction.py:493\u001b[0m, in \u001b[0;36mdict_to_mgr\u001b[1;34m(data, index, columns, dtype, typ, copy)\u001b[0m\n\u001b[0;32m    489\u001b[0m     \u001b[39melse\u001b[39;00m:\n\u001b[0;32m    490\u001b[0m         \u001b[39m# dtype check to exclude e.g. range objects, scalars\u001b[39;00m\n\u001b[0;32m    491\u001b[0m         arrays \u001b[39m=\u001b[39m [x\u001b[39m.\u001b[39mcopy() \u001b[39mif\u001b[39;00m \u001b[39mhasattr\u001b[39m(x, \u001b[39m\"\u001b[39m\u001b[39mdtype\u001b[39m\u001b[39m\"\u001b[39m) \u001b[39melse\u001b[39;00m x \u001b[39mfor\u001b[39;00m x \u001b[39min\u001b[39;00m arrays]\n\u001b[1;32m--> 493\u001b[0m \u001b[39mreturn\u001b[39;00m arrays_to_mgr(arrays, columns, index, dtype\u001b[39m=\u001b[39;49mdtype, typ\u001b[39m=\u001b[39;49mtyp, consolidate\u001b[39m=\u001b[39;49mcopy)\n",
      "File \u001b[1;32m~\\AppData\\Local\\Packages\\PythonSoftwareFoundation.Python.3.10_qbz5n2kfra8p0\\LocalCache\\local-packages\\Python310\\site-packages\\pandas\\core\\internals\\construction.py:118\u001b[0m, in \u001b[0;36marrays_to_mgr\u001b[1;34m(arrays, columns, index, dtype, verify_integrity, typ, consolidate)\u001b[0m\n\u001b[0;32m    115\u001b[0m \u001b[39mif\u001b[39;00m verify_integrity:\n\u001b[0;32m    116\u001b[0m     \u001b[39m# figure out the index, if necessary\u001b[39;00m\n\u001b[0;32m    117\u001b[0m     \u001b[39mif\u001b[39;00m index \u001b[39mis\u001b[39;00m \u001b[39mNone\u001b[39;00m:\n\u001b[1;32m--> 118\u001b[0m         index \u001b[39m=\u001b[39m _extract_index(arrays)\n\u001b[0;32m    119\u001b[0m     \u001b[39melse\u001b[39;00m:\n\u001b[0;32m    120\u001b[0m         index \u001b[39m=\u001b[39m ensure_index(index)\n",
      "File \u001b[1;32m~\\AppData\\Local\\Packages\\PythonSoftwareFoundation.Python.3.10_qbz5n2kfra8p0\\LocalCache\\local-packages\\Python310\\site-packages\\pandas\\core\\internals\\construction.py:666\u001b[0m, in \u001b[0;36m_extract_index\u001b[1;34m(data)\u001b[0m\n\u001b[0;32m    664\u001b[0m lengths \u001b[39m=\u001b[39m \u001b[39mlist\u001b[39m(\u001b[39mset\u001b[39m(raw_lengths))\n\u001b[0;32m    665\u001b[0m \u001b[39mif\u001b[39;00m \u001b[39mlen\u001b[39m(lengths) \u001b[39m>\u001b[39m \u001b[39m1\u001b[39m:\n\u001b[1;32m--> 666\u001b[0m     \u001b[39mraise\u001b[39;00m \u001b[39mValueError\u001b[39;00m(\u001b[39m\"\u001b[39m\u001b[39mAll arrays must be of the same length\u001b[39m\u001b[39m\"\u001b[39m)\n\u001b[0;32m    668\u001b[0m \u001b[39mif\u001b[39;00m have_dicts:\n\u001b[0;32m    669\u001b[0m     \u001b[39mraise\u001b[39;00m \u001b[39mValueError\u001b[39;00m(\n\u001b[0;32m    670\u001b[0m         \u001b[39m\"\u001b[39m\u001b[39mMixing dicts with non-Series may lead to ambiguous ordering.\u001b[39m\u001b[39m\"\u001b[39m\n\u001b[0;32m    671\u001b[0m     )\n",
      "\u001b[1;31mValueError\u001b[0m: All arrays must be of the same length"
     ]
    }
   ],
   "source": [
    "weather_df = pd.DataFrame({\n",
    "'url': website[:2933],\n",
    "'date': date[:2933],\n",
    "'homeTeam': home[:2933],\n",
    "'visitingTeam':visiting[:2933],\n",
    "'gameTime':startTime[:2933],\n",
    "'avgTemp':avgTemp[:2933],\n",
    "'percipitation':totalPrecip[:2933],\n",
    "'avgWindSpeed':avgWindSpeed[:2933]\n",
    "})\n",
    "print(weather_df)\n",
    "\n",
    "csv_name = 'weather' + str(index1) + '_' + str(index2) + '.csv'\n",
    "weather_df.to_csv((csv_name), header=True, index=False, mode='w+')"
   ]
  },
  {
   "cell_type": "code",
   "execution_count": 12,
   "metadata": {},
   "outputs": [
    {
     "name": "stdout",
     "output_type": "stream",
     "text": [
      "['Feels Like', '79', '83', '86', '89', 'N/A']\n",
      "28\n"
     ]
    }
   ],
   "source": [
    "print(feelsLikeList)\n",
    "print(len(avgWindSpeed))\n"
   ]
  }
 ],
 "metadata": {
  "kernelspec": {
   "display_name": "Python 3",
   "language": "python",
   "name": "python3"
  },
  "language_info": {
   "codemirror_mode": {
    "name": "ipython",
    "version": 3
   },
   "file_extension": ".py",
   "mimetype": "text/x-python",
   "name": "python",
   "nbconvert_exporter": "python",
   "pygments_lexer": "ipython3",
   "version": "3.10.10"
  },
  "orig_nbformat": 4
 },
 "nbformat": 4,
 "nbformat_minor": 2
}
